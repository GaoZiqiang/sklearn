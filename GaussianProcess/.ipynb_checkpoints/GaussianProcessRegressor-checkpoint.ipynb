{
 "cells": [
  {
   "cell_type": "code",
   "execution_count": 2,
   "metadata": {},
   "outputs": [],
   "source": [
    "'''\n",
    "高斯过程回归\n",
    "auther@Gao Ziqiang\n",
    "'''\n",
    "\n",
    "from sklearn.datasets import make_friedman2\n",
    "from sklearn.gaussian_process import GaussianProcessRegressor\n",
    "from sklearn.gaussian_process.kernels import DotProduct, WhiteKernel"
   ]
  },
  {
   "cell_type": "code",
   "execution_count": 17,
   "metadata": {},
   "outputs": [
    {
     "data": {
      "text/plain": [
       "(500, 4)"
      ]
     },
     "execution_count": 17,
     "metadata": {},
     "output_type": "execute_result"
    }
   ],
   "source": [
    "X, y = make_friedman2(n_samples=500, noise=0, random_state=0)\n",
    "X.shape"
   ]
  },
  {
   "cell_type": "code",
   "execution_count": 16,
   "metadata": {},
   "outputs": [
    {
     "data": {
      "text/plain": [
       "(array([ 653.08792338,  592.16905303]), array([ 316.68016218,  316.65121679]))"
      ]
     },
     "execution_count": 16,
     "metadata": {},
     "output_type": "execute_result"
    }
   ],
   "source": [
    "kernel = DotProduct() + WhiteKernel()# 选择核函数\n",
    "\n",
    "gpr = GaussianProcessRegressor(kernel='1.0 * RBF(1.0)',random_state=0).fit(X, y)\n",
    "gpr.score(X, y)\n",
    "gpr.predict(X[:2,:], return_std=True)# 返回预测值与标准偏差\n",
    "gpr.predict([[5.48813504e+01,   1.29401721e+03,   6.02763376e-01,\n",
    "          6.44883183e+00],[4.23654799e+01,   1.18081453e+03,   4.37587211e-01,\n",
    "          9.91773001e+00]], return_std=True)\n",
    "# X[:2,:] 取前两行的所有列"
   ]
  }
 ],
 "metadata": {
  "kernelspec": {
   "display_name": "Python 3",
   "language": "python",
   "name": "python3"
  },
  "language_info": {
   "codemirror_mode": {
    "name": "ipython",
    "version": 3
   },
   "file_extension": ".py",
   "mimetype": "text/x-python",
   "name": "python",
   "nbconvert_exporter": "python",
   "pygments_lexer": "ipython3",
   "version": "3.6.2"
  }
 },
 "nbformat": 4,
 "nbformat_minor": 4
}
