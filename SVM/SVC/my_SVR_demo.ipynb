{
 "cells": [
  {
   "cell_type": "code",
   "execution_count": 35,
   "metadata": {},
   "outputs": [
    {
     "data": {
      "text/plain": [
       "array([ 1.71663234])"
      ]
     },
     "execution_count": 35,
     "metadata": {},
     "output_type": "execute_result"
    }
   ],
   "source": [
    "\"\"\"\n",
    "--- the SVR practice demo ---\n",
    "author@gaoziqiang\n",
    "\"\"\"\n",
    "import numpy as np\n",
    "from sklearn.svm import SVR\n",
    "\n",
    "#准备数据集\n",
    "X = np.array([[-1, -1], [-2, -1], [1, 1], [2, 1]])\n",
    "y = np.array([1, 1, 2, 2])\n",
    "\n",
    "\n",
    "#数据集2\n",
    "X2 = np.array([[-1, -1], [-2, -1], [1, 1], [2, 1]])\n",
    "y2 = np.array([2,2,1,1])\n",
    "#创建SVR实例\n",
    "clf = SVR()\n",
    "\n",
    "#拟合模型，创建模型的一个实例\n",
    "clf.fit(X,y)\n",
    "clf.fit(X2,y2)\n",
    "\n",
    "#使用最新的那个fit()\n",
    "clf.predict([[-0.8,-0.1]])"
   ]
  }
 ],
 "metadata": {
  "kernelspec": {
   "display_name": "Python 3",
   "language": "python",
   "name": "python3"
  },
  "language_info": {
   "codemirror_mode": {
    "name": "ipython",
    "version": 3
   },
   "file_extension": ".py",
   "mimetype": "text/x-python",
   "name": "python",
   "nbconvert_exporter": "python",
   "pygments_lexer": "ipython3",
   "version": "3.6.2"
  }
 },
 "nbformat": 4,
 "nbformat_minor": 4
}
