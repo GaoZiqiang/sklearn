{
 "cells": [
  {
   "cell_type": "code",
   "execution_count": 14,
   "metadata": {},
   "outputs": [
    {
     "name": "stdout",
     "output_type": "stream",
     "text": [
      "[1]\n",
      "[2 1]\n"
     ]
    },
    {
     "data": {
      "text/plain": [
       "1.0"
      ]
     },
     "execution_count": 14,
     "metadata": {},
     "output_type": "execute_result"
    }
   ],
   "source": [
    "import numpy as np\n",
    "from sklearn.svm import SVC\n",
    "\n",
    "#准备数据集\n",
    "X = np.array([[-1, -1], [-2, -1], [1, 1], [2, 1]])\n",
    "y = np.array([1, 1, 2, 2])\n",
    "\n",
    "#SVC实例化\n",
    "clf = SVC(kernel='linear'\n",
    "          ,degree=3\n",
    "          ,C=1.0\n",
    "          ,gamma='auto'\n",
    "          ,coef0=0.0\n",
    "          ,shrinking=True\n",
    "          ,probability=False)\n",
    "#拟合模型（创建模型），换言之，创建模型，并创造一个该模型的实例\n",
    "clf.fit(X, y)\n",
    "\n",
    "#下面开始调用该模型实例clf的一些方法/函数\n",
    "clf.predict([[-0.8,-0.1]])\n",
    "print(clf.predict([[-0.8,-0.1]]))\n",
    "print(clf.predict([[0.8,0.1],[-0.1,-0.5]]))\n",
    "\n",
    "clf.score(X,y)"
   ]
  }
 ],
 "metadata": {
  "kernelspec": {
   "display_name": "Python 3",
   "language": "python",
   "name": "python3"
  },
  "language_info": {
   "codemirror_mode": {
    "name": "ipython",
    "version": 3
   },
   "file_extension": ".py",
   "mimetype": "text/x-python",
   "name": "python",
   "nbconvert_exporter": "python",
   "pygments_lexer": "ipython3",
   "version": "3.6.2"
  }
 },
 "nbformat": 4,
 "nbformat_minor": 4
}
