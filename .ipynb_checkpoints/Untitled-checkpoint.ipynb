{
 "cells": [
  {
   "cell_type": "code",
   "execution_count": 11,
   "metadata": {},
   "outputs": [
    {
     "data": {
      "text/plain": [
       "array([ 0.15887521,  0.        ,  0.        ,  0.        ,  0.        ,\n",
       "        0.        ,  0.43274658,  0.        ,  0.        ,  0.02646884,\n",
       "        0.06176816,  0.08557785,  0.23456336])"
      ]
     },
     "execution_count": 11,
     "metadata": {},
     "output_type": "execute_result"
    }
   ],
   "source": [
    "#Decision Trees (DTs) 是一种用来 classification 和 regression 的无参监督学习方法。\n",
    "#其目的是创建一种模型从数据特征中学习简单的决策规则来预测一个目标变量的值。\n",
    "\n",
    "\n",
    "#分类树DecisionTreeClassifier，分类树的八个参数，一个属性，四个接口\n",
    "# coding: utf-8\n",
    "\n",
    "# In[1]:\n",
    "from sklearn import tree\n",
    "from sklearn.datasets import load_wine\n",
    "from sklearn.model_selection import train_test_split\n",
    "\n",
    "\n",
    "# In[4]:\n",
    "\n",
    "\n",
    "wine = load_wine()\n",
    "\n",
    "\n",
    "# In[11]:\n",
    "\n",
    "\n",
    "wine.data#数据\n",
    "\n",
    "\n",
    "# In[8]:\n",
    "\n",
    "\n",
    "wine.target#标签\n",
    "\n",
    "\n",
    "# In[10]:\n",
    "\n",
    "\n",
    "import pandas as pd\n",
    "pd.concat([pd.DataFrame(wine.data),pd.DataFrame(wine.target)],axis=1)#表格展示\n",
    "\n",
    "\n",
    "# In[13]:\n",
    "\n",
    "\n",
    "wine.feature_names#特征的名字\n",
    "\n",
    "\n",
    "# In[14]:\n",
    "\n",
    "\n",
    "wine.target_names#标签分类\n",
    "\n",
    "\n",
    "# In[15]:\n",
    "\n",
    "\n",
    "Xtrain,Xtest,Ytrain,Ytest = train_test_split(wine.data,wine.target,test_size=0.3)#数据是随机划分的\n",
    "\n",
    "\n",
    "# In[16]:\n",
    "\n",
    "\n",
    "Xtrain.shape\n",
    "\n",
    "\n",
    "# In[17]:\n",
    "\n",
    "\n",
    "Xtest.shape\n",
    "\n",
    "\n",
    "# In[20]:\n",
    "\n",
    "\n",
    "Ytrain.shape\n",
    "\n",
    "\n",
    "# In[19]:\n",
    "\n",
    "\n",
    "Ytest\n",
    "\n",
    "\n",
    "# In[38]:\n",
    "\n",
    "\n",
    "#建立模型\n",
    "clf = tree.DecisionTreeClassifier(criterion=\"entropy\"#criterion：不纯度的衡量指标\n",
    "                                  ,random_state=30\n",
    "                                  ,splitter=\"random\"\n",
    "                                  ,max_depth=3\n",
    "                                  )#DecisionTreeClassifier具有随机性，clf = classfier，random_state，splitter控制随机性\n",
    "clf = clf.fit(Xtrain,Ytrain)#clf实例化\n",
    "score = clf.score(Xtest,Ytest)#返回预测的准确度accuracy\n",
    "\n",
    "\n",
    "# In[39]:\n",
    "\n",
    "\n",
    "score\n",
    "\n",
    "\n",
    "\n",
    "# In[41]:\n",
    "\n",
    "\n",
    "#import graphviz\n",
    "\n",
    "\n",
    "# In[41]:\n",
    "\n",
    "\n",
    "#import graphviz\n",
    "\n",
    "\n",
    "# In[27]:\n",
    "\n",
    "\n",
    "clf.feature_importances_#特征贡献度，重要属性\n",
    "\n"
   ]
  },
  {
   "cell_type": "code",
   "execution_count": 2,
   "metadata": {},
   "outputs": [
    {
     "data": {
      "text/plain": [
       "1.0"
      ]
     },
     "execution_count": 2,
     "metadata": {},
     "output_type": "execute_result"
    }
   ],
   "source": [
    "#树对训练集的拟合程度\n",
    "#过拟合解释：在训练集上准确度很高，但在测试集上准确度不理想，二者差别很大\n",
    "score_train = clf.score(Xtrain,Ytrain)\n",
    "score_train"
   ]
  },
  {
   "cell_type": "code",
   "execution_count": 12,
   "metadata": {
    "collapsed": true
   },
   "outputs": [],
   "source": [
    "#对决策树进行优化\n",
    "#决策树优化算法的核心：剪枝策略\n",
    "#下面是一些常用的剪枝参数\n",
    "#参数 max_depth：适用于高维度低样本，建议从max_depth=3\n",
    "#参数min_samples_leaf：一个节点在分枝后的每个子节点都必须包含至少min_samples_leaf个训练样本才被允许分枝，该参数太小就会过拟合\n",
    "#建议从min_samples_leaf=5开始，对于类别不多的分类问题，min_samples_leaf=1是最佳选择\n",
    "#参数min_samples_split，一个节点必须要包含至少min_samples_split个训练样本，这个节点才被允许分枝，否则分枝就不会发生"
   ]
  },
  {
   "cell_type": "code",
   "execution_count": 26,
   "metadata": {},
   "outputs": [
    {
     "data": {
      "text/plain": [
       "0.97580645161290325"
      ]
     },
     "execution_count": 26,
     "metadata": {},
     "output_type": "execute_result"
    }
   ],
   "source": [
    "clf = tree.DecisionTreeClassifier(criterion=\"entropy\"\n",
    "                                  ,random_state=30\n",
    "                                  ,splitter=\"random\"\n",
    "                                  ,max_depth=3\n",
    "                                  ,min_samples_leaf=1\n",
    "                                  ,min_samples_split=5\n",
    "                                  )#DecisionTreeClassifier具有随机性，clf = classfier，random_state，splitter控制随机性\n",
    "clf = clf.fit(Xtrain,Ytrain)#clf实例化\n",
    "score_train = clf.score(Xtrain,Ytrain)\n",
    "score_train#训练集得分"
   ]
  },
  {
   "cell_type": "code",
   "execution_count": 28,
   "metadata": {},
   "outputs": [
    {
     "data": {
      "text/plain": [
       "0.94444444444444442"
      ]
     },
     "execution_count": 28,
     "metadata": {},
     "output_type": "execute_result"
    }
   ],
   "source": [
    "score_test = clf.score(Xtest,Ytest)#返回预测的准确度accuracy\n",
    "score_test#测试集得分"
   ]
  },
  {
   "cell_type": "code",
   "execution_count": 29,
   "metadata": {
    "collapsed": true
   },
   "outputs": [],
   "source": [
    "#max_features：限制分枝时考虑的特征个数，超过限制个数的特征都会被舍弃，和max_depth异曲同工。用来限制高维度数据过拟合。但该方法过于暴力，可能会导致模型\n",
    "#学习不足，可以考虑使用PCA、ICA或者特征选择模块中的降为维算法\n",
    "#min_impurity_decrease限制信息增益的大小，信息增益小于设定数值的分支不会发生。信息增益越大对决策树的贡献越大"
   ]
  },
  {
   "cell_type": "code",
   "execution_count": 31,
   "metadata": {
    "collapsed": true
   },
   "outputs": [],
   "source": [
    "#确定最优的剪枝参数：超参数学习曲线，是一条以超参数的取值为横坐标，模型的拟合度（比如score）为纵坐标的曲线，它用来衡量不同超参数取值下模型的表现的线\n",
    "#在我们建好的决策树里，我们的模型度量指标就是score"
   ]
  },
  {
   "cell_type": "code",
   "execution_count": 44,
   "metadata": {},
   "outputs": [
    {
     "data": {
      "image/png": "[encoded data removed]",
      "text/plain": [
       "<matplotlib.figure.Figure at 0x7f46fb9cd780>"
      ]
     },
     "metadata": {},
     "output_type": "display_data"
    }
   ],
   "source": [
    "#引入可视化模块，演示max_depth这一参数对模型拟合度的影响\n",
    "import matplotlib.pyplot as plt\n",
    "\n",
    "test = []\n",
    "for i in range(10):\n",
    "    clf = tree.DecisionTreeClassifier(max_depth = i + 1#决策树的深度，范围为1-10\n",
    "                                      ,criterion = \"entropy\"\n",
    "                                      ,random_state = 20\n",
    "                                      ,splitter = \"random\"\n",
    "                                     )\n",
    "    clf = clf.fit(Xtrain,Ytrain)\n",
    "    score = clf.score(Xtest,Ytest)\n",
    "    test.append(score)#把score添加到曲线，纵坐标为score，即拟合程度，横坐标为决策树深度max_depth\n",
    "plt.plot(range(1,11),test,color = \"red\",label = \"max_depth\")\n",
    "plt.legend()\n",
    "plt.show()"
   ]
  },
  {
   "cell_type": "code",
   "execution_count": 45,
   "metadata": {
    "collapsed": true
   },
   "outputs": [],
   "source": [
    "#目标权重参数\n",
    "#class_weight&min_weight_fraction_leaf\n",
    "#完成样本标签平衡的参数，模型会自动修正"
   ]
  },
  {
   "cell_type": "code",
   "execution_count": 47,
   "metadata": {
    "collapsed": true
   },
   "outputs": [],
   "source": [
    "#重要属性和接口\n",
    "#重要属性\n",
    "#属性是在模型训练之后，能够调用查看的模型的各种性质。对决策树来说最重要的就是feature_importances\n",
    "#可以查看分类树属性列表，有feature_importances，max_features等\n",
    "\n",
    "#重要接口\n",
    "#sklearn中很多接口都是相似的，例如fit()和score()\n",
    "#还有apply()和predict() apply()返回每个测试样本所在的叶子节点的索引 predict()返回每个测试样本的分类/回归结果\n",
    "#要求所有接口的参数输入的特征矩阵都必须至少是二维矩阵，不能接受一维矩阵（即，只有一个样本，至少有两个样本）"
   ]
  },
  {
   "cell_type": "code",
   "execution_count": 48,
   "metadata": {},
   "outputs": [
    {
     "data": {
      "text/plain": [
       "array([0, 1, 0, 1, 2, 2, 1, 0, 1, 0, 0, 2, 2, 1, 2, 0, 2, 0, 1, 0, 2, 2, 1,\n",
       "       1, 1, 0, 1, 1, 2, 0, 1, 2, 2, 0, 1, 1, 1, 2, 0, 1, 1, 2, 1, 1, 0, 1,\n",
       "       0, 2, 0, 0, 1, 2, 2, 1])"
      ]
     },
     "execution_count": 48,
     "metadata": {},
     "output_type": "execute_result"
    }
   ],
   "source": [
    "#apply()返回每个测试样本所在的叶子节点的索\n",
    "clf.apply(Xtest)#只需要特征X,不需要标签label"
   ]
  },
  {
   "cell_type": "code",
   "execution_count": 49,
   "metadata": {},
   "outputs": [
    {
     "data": {
      "text/plain": [
       "array([0, 1, 0, 1, 2, 2, 1, 0, 1, 0, 0, 2, 2, 1, 2, 0, 2, 0, 1, 0, 2, 2, 1,\n",
       "       1, 1, 0, 1, 1, 2, 0, 1, 2, 2, 0, 1, 1, 1, 2, 0, 1, 1, 2, 1, 1, 0, 1,\n",
       "       0, 2, 0, 0, 1, 2, 2, 1])"
      ]
     },
     "execution_count": 49,
     "metadata": {},
     "output_type": "execute_result"
    }
   ],
   "source": [
    "#predict()返回每个测试样本的分类/回归结果\n",
    "clf.predict(Xtest)"
   ]
  },
  {
   "cell_type": "code",
   "execution_count": null,
   "metadata": {
    "collapsed": true
   },
   "outputs": [],
   "source": []
  }
 ],
 "metadata": {
  "kernelspec": {
   "display_name": "Python 3",
   "language": "python",
   "name": "python3"
  },
  "language_info": {
   "codemirror_mode": {
    "name": "ipython",
    "version": 3
   },
   "file_extension": ".py",
   "mimetype": "text/x-python",
   "name": "python",
   "nbconvert_exporter": "python",
   "pygments_lexer": "ipython3",
   "version": "3.6.2"
  }
 },
 "nbformat": 4,
 "nbformat_minor": 2
}
