{
 "cells": [
  {
   "cell_type": "code",
   "execution_count": 1,
   "metadata": {},
   "outputs": [],
   "source": [
    "# 建立逻辑回归分类器"
   ]
  },
  {
   "cell_type": "code",
   "execution_count": 3,
   "metadata": {},
   "outputs": [],
   "source": [
    "import numpy as np\n",
    "from sklearn import linear_model\n",
    "import matplotlib.pyplot as plt"
   ]
  },
  {
   "cell_type": "code",
   "execution_count": 15,
   "metadata": {},
   "outputs": [
    {
     "data": {
      "text/plain": [
       "LogisticRegression(C=10000, class_weight=None, dual=False, fit_intercept=True,\n",
       "          intercept_scaling=1, max_iter=100, multi_class='ovr', n_jobs=1,\n",
       "          penalty='l2', random_state=None, solver='liblinear', tol=0.0001,\n",
       "          verbose=0, warm_start=False)"
      ]
     },
     "execution_count": 15,
     "metadata": {},
     "output_type": "execute_result"
    }
   ],
   "source": [
    "# 创建数据\n",
    "X = np.array([[4, 7], [3.5, 8], [3.1, 6.2], [0.5, 1], [1, 2],[1.2, 1.9], [6, 2], [5.7, 1.5], [5.4, 2.2]])\n",
    "y = np.array([0, 0, 0, 1, 1, 1, 2, 2, 2])\n",
    "# 初始化逻辑回归分类器\n",
    "# 参数C表示对分类错误（misclassification）的惩罚值\n",
    "# 随着参数C的不断增大，分类错误的惩罚值越高。因此，各个类型的边界更优\n",
    "classifier = linear_model.LogisticRegression(solver='liblinear',C=10000)# 参数C表示惩罚值\n",
    "# 训练分类器\n",
    "classifier.fit(X,y)"
   ]
  },
  {
   "cell_type": "code",
   "execution_count": 16,
   "metadata": {},
   "outputs": [
    {
     "data": {
      "image/png": "[encoded data removed]",
      "text/plain": [
       "<matplotlib.figure.Figure at 0x7f845c5ecb70>"
      ]
     },
     "metadata": {
      "needs_background": "light"
     },
     "output_type": "display_data"
    }
   ],
   "source": [
    "# 图示\n",
    "# 定义plot_classifier函数\n",
    "def plot_classifier(classifier,X,y):\n",
    "    # 定义横纵坐标的取值范围\n",
    "    x_min,x_max = min(X[:,0]) - 1.0,max(X[:,0]) + 1.0\n",
    "    y_min,y_max = min(X[:,1]) - 1.0,max(X[:,1]) + 1.0\n",
    "    # 使用网格数据求出方程的值，然后画出边界\n",
    "    # 定义网格数据的步长\n",
    "    step_size = 0.01\n",
    "    # 定义网格\n",
    "    x_values,y_values = np.meshgrid(np.arange(x_min,x_max,step_size),np.arange(y_min,y_max,step_size))\n",
    "\n",
    "    # 计算出分类器对所有数据点的分类结果\n",
    "    mesh_output= classifier.predict(np.c_[x_values.ravel(),y_values.ravel()])\n",
    "    # 数组维度变形\n",
    "    mesh_output = mesh_output.reshape(x_values.shape)\n",
    "    # 用彩图画出分类结果\n",
    "    plt.figure()\n",
    "    # 选择配色方案\n",
    "    plt.pcolormesh(x_values,y_values,mesh_output,cmap=plt.cm.gray)\n",
    "    \n",
    "    # 把训练数据点画在图上\n",
    "    plt.scatter(X[:,0],X[:,1],c=y,s=80,edgecolors='black',linewidth=1,cmap=plt.cm.Paired)# c=y表示颜色的使用顺序\n",
    "    # 设置图像的取值范围\n",
    "    plt.xlim(x_values.min(),x_values.max())\n",
    "    plt.ylim(y_values.min(),y_values.max())\n",
    "    # 设置X轴与Y轴\n",
    "    plt.xticks((np.arange(int(min(X[:, 0])-1),int(max(X[:, 0])+1),1.0)))\n",
    "    plt.xticks((np.arange(int(min(X[:, 1])-1),int(max(X[:, 1])+1),1.0)))\n",
    "    \n",
    "    plt.show()\n",
    "\n",
    "    \n",
    "plot_classifier(classifier,X,y)    "
   ]
  }
 ],
 "metadata": {
  "kernelspec": {
   "display_name": "Python 3",
   "language": "python",
   "name": "python3"
  },
  "language_info": {
   "codemirror_mode": {
    "name": "ipython",
    "version": 3
   },
   "file_extension": ".py",
   "mimetype": "text/x-python",
   "name": "python",
   "nbconvert_exporter": "python",
   "pygments_lexer": "ipython3",
   "version": "3.6.2"
  }
 },
 "nbformat": 4,
 "nbformat_minor": 4
}
