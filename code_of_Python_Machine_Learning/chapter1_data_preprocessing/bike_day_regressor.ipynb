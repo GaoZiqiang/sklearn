{
 "cells": [
  {
   "cell_type": "code",
   "execution_count": 3,
   "metadata": {},
   "outputs": [],
   "source": [
    "# 共享单车回归\n",
    "import sys\n",
    "import csv\n",
    "import numpy as np\n",
    "from sklearn.ensemble import RandomForestRegressor\n",
    "from sklearn.utils import shuffle\n",
    "from sklearn.metrics import mean_squared_error,explained_variance_score\n",
    "from housing import plot_feature_importances\n",
    "from IPython import embed"
   ]
  },
  {
   "cell_type": "code",
   "execution_count": 5,
   "metadata": {},
   "outputs": [],
   "source": [
    "# CSV文件读取器\n",
    "def load_dataset(filename):\n",
    "    file_reader = csv.reader(open(filename,'r'),delimiter=',')\n",
    "    X,y = [],[]\n",
    "    for row in file_reader:\n",
    "        X.append(row[2:13])# 只提取2-13列的特征\n",
    "        y.append(row[-1])# 提取最后一列作为label\n",
    "    \n",
    "    # 提取特征名称\n",
    "    feature_names = np.array(X[0])# 在这里打一个断点\n",
    "    \n",
    "    # 将第一行特征名称移除，仅保留数据部分\n",
    "    return np.array(X[1:]).astype(np.float32),np.array(y[1:]).astype(np.float32),feature_names"
   ]
  },
  {
   "cell_type": "code",
   "execution_count": 6,
   "metadata": {},
   "outputs": [
    {
     "ename": "NameError",
     "evalue": "name 'sys' is not defined",
     "output_type": "error",
     "traceback": [
      "\u001b[0;31m---------------------------------------------------------------------------\u001b[0m",
      "\u001b[0;31mNameError\u001b[0m                                 Traceback (most recent call last)",
      "\u001b[0;32m<ipython-input-6-d8272f86d6a3>\u001b[0m in \u001b[0;36m<module>\u001b[0;34m\u001b[0m\n\u001b[1;32m      1\u001b[0m \u001b[0;31m# 读取数据并做训练\u001b[0m\u001b[0;34m\u001b[0m\u001b[0;34m\u001b[0m\u001b[0m\n\u001b[0;32m----> 2\u001b[0;31m \u001b[0mX\u001b[0m\u001b[0;34m,\u001b[0m\u001b[0my\u001b[0m\u001b[0;34m,\u001b[0m\u001b[0mfeature_names\u001b[0m \u001b[0;34m=\u001b[0m \u001b[0mload_dataset\u001b[0m\u001b[0;34m(\u001b[0m\u001b[0msys\u001b[0m\u001b[0;34m.\u001b[0m\u001b[0margv\u001b[0m\u001b[0;34m[\u001b[0m\u001b[0;36m1\u001b[0m\u001b[0;34m]\u001b[0m\u001b[0;34m)\u001b[0m\u001b[0;31m# 使用python3 filename.py data_filename.csv命令读取csv文件\u001b[0m\u001b[0;34m\u001b[0m\u001b[0m\n\u001b[0m\u001b[1;32m      3\u001b[0m \u001b[0mX\u001b[0m\u001b[0;34m,\u001b[0m\u001b[0my\u001b[0m \u001b[0;34m=\u001b[0m \u001b[0mshuffle\u001b[0m\u001b[0;34m(\u001b[0m\u001b[0mX\u001b[0m\u001b[0;34m,\u001b[0m\u001b[0my\u001b[0m\u001b[0;34m,\u001b[0m\u001b[0mrandom_state\u001b[0m\u001b[0;34m=\u001b[0m\u001b[0;36m7\u001b[0m\u001b[0;34m)\u001b[0m\u001b[0;34m\u001b[0m\u001b[0m\n\u001b[1;32m      4\u001b[0m \u001b[0;34m\u001b[0m\u001b[0m\n\u001b[1;32m      5\u001b[0m \u001b[0mnum_training\u001b[0m \u001b[0;34m=\u001b[0m  \u001b[0mint\u001b[0m\u001b[0;34m(\u001b[0m\u001b[0;36m0.9\u001b[0m\u001b[0;34m*\u001b[0m\u001b[0mlen\u001b[0m\u001b[0;34m(\u001b[0m\u001b[0mX\u001b[0m\u001b[0;34m)\u001b[0m\u001b[0;34m)\u001b[0m\u001b[0;34m\u001b[0m\u001b[0m\n",
      "\u001b[0;31mNameError\u001b[0m: name 'sys' is not defined"
     ]
    }
   ],
   "source": [
    "# 读取数据并做训练\n",
    "X,y,feature_names = load_dataset(sys.argv[1])# 使用python3 filename.py data_filename.csv命令读取csv文件\n",
    "X,y = shuffle(X,y,random_state=7)\n",
    "\n",
    "num_training =  int(0.9*len(X))\n",
    "X_train,y_train = X[:num_training],y[:num_training]\n",
    "X_test,y_test = X[num_training:],y[num_training:]\n",
    "\n",
    "# 参数n_estimators是指评估器（estimator）的数量，表示随机森林需要使用的决策树数量\n",
    "# 参数max_depth是指每个决策树的最大深度\n",
    "# 数min_samples_split是指决策树分裂一个节点需要用到的最小数据样本量\n",
    "rf_regressor = RandomRorestRegressor(n_estimators=1000,max_depth=10,min_samples_split=1)\n",
    "rf_regressor.fit(X_train,y_train)\n",
    "\n",
    "# 评价训练效果\n",
    "y_test_pred = rf_regressor.predict(X_test)\n",
    "mse = mean_squared_error(y_test,y_test_pred)\n",
    "evs = explained_variance_score(y_test,y_test_pred)\n",
    "print(\"\\n#### Random Forest regressor performance ####\") \n",
    "print(\"Mean squared error =\", round(mse, 2)) \n",
    "print(\"Explained variance score =\", round(evs, 2))\n",
    "\n",
    "# 画特征重要性条形图\n",
    "plot_feature_importances(rf_regressor.feature_importances_,'Random Forest regressor',feature_names)"
   ]
  },
  {
   "cell_type": "code",
   "execution_count": null,
   "metadata": {},
   "outputs": [],
   "source": []
  }
 ],
 "metadata": {
  "kernelspec": {
   "display_name": "Python 3",
   "language": "python",
   "name": "python3"
  },
  "language_info": {
   "codemirror_mode": {
    "name": "ipython",
    "version": 3
   },
   "file_extension": ".py",
   "mimetype": "text/x-python",
   "name": "python",
   "nbconvert_exporter": "python",
   "pygments_lexer": "ipython3",
   "version": "3.6.2"
  }
 },
 "nbformat": 4,
 "nbformat_minor": 4
}
