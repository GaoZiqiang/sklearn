{
 "cells": [
  {
   "cell_type": "code",
   "execution_count": 1,
   "metadata": {},
   "outputs": [],
   "source": [
    "# 岭回归\n",
    "# author by:GaoZiqiang"
   ]
  },
  {
   "cell_type": "code",
   "execution_count": 2,
   "metadata": {},
   "outputs": [],
   "source": [
    "# 线性回归的主要问题是对异常值敏感\n",
    "# 在真实世界的数据收集过程中,经常会遇到错误的度\n",
    "# 量结果。而线性回归使用的普通最小二乘法,其目标是使平方误差最小化。这时,由于异常值误\n",
    "# 差的绝对值很大,因此会引起问题,从而破坏整个模型。普通最小二乘法在建模时会考虑每个数据点的影响\n",
    "\n",
    "# 为了避免这个问题,我们引入正则化项的系数作为阈值来消除异常值的影响。这个方法被称为岭回归"
   ]
  },
  {
   "cell_type": "code",
   "execution_count": 5,
   "metadata": {},
   "outputs": [],
   "source": [
    "from sklearn import linear_model\n",
    "import numpy as np\n",
    "import sklearn.metrics as sm"
   ]
  },
  {
   "cell_type": "code",
   "execution_count": 6,
   "metadata": {},
   "outputs": [],
   "source": [
    "# 参数解释：\n",
    "# alpha 参数控制回归器的复杂程度\n",
    "# 当 alpha 趋于 0 时,岭回归器就是用普通最小二乘法的线性回归器\n",
    "# 如果你希望模型对异常值不那么敏感（忽略异常值）,就需要设置一个较大的 alpha 值。这里把 alpha 值设置为 0.01 。\n",
    "ridge_regressor = linear_model.Ridge(alpha=0.01,fit_intercept=True,max_iter=10000)"
   ]
  },
  {
   "cell_type": "code",
   "execution_count": null,
   "metadata": {},
   "outputs": [],
   "source": [
    "# 训练岭回归器\n",
    "ridge_regressor.fit(X_train,y_Train)\n",
    "# 预测\n",
    "y_test_pred_ridge = ridge_regressor.predict(X_test)\n",
    "# 计算MSE\n",
    "sm.mean_squared_error(y_test,y_test_pred_ridge)"
   ]
  }
 ],
 "metadata": {
  "kernelspec": {
   "display_name": "Python 3",
   "language": "python",
   "name": "python3"
  },
  "language_info": {
   "codemirror_mode": {
    "name": "ipython",
    "version": 3
   },
   "file_extension": ".py",
   "mimetype": "text/x-python",
   "name": "python",
   "nbconvert_exporter": "python",
   "pygments_lexer": "ipython3",
   "version": "3.6.2"
  }
 },
 "nbformat": 4,
 "nbformat_minor": 4
}
