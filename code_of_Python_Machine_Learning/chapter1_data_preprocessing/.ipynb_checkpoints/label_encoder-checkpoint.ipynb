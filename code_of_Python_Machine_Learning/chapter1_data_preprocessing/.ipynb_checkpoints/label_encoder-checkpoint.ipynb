{
 "cells": [
  {
   "cell_type": "code",
   "execution_count": 2,
   "metadata": {},
   "outputs": [],
   "source": [
    "from sklearn import preprocessing"
   ]
  },
  {
   "cell_type": "code",
   "execution_count": 34,
   "metadata": {},
   "outputs": [
    {
     "name": "stdout",
     "output_type": "stream",
     "text": [
      "audi ---> 0\n",
      "bmw ---> 1\n",
      "ford ---> 2\n",
      "toyota ---> 3\n",
      "[3 2 0]\n"
     ]
    },
    {
     "data": {
      "text/plain": [
       "array(['ford', 'bmw', 'audi', 'toyota', 'bmw'],\n",
       "      dtype='<U6')"
      ]
     },
     "execution_count": 34,
     "metadata": {},
     "output_type": "execute_result"
    }
   ],
   "source": [
    "# 定义标记编码器\n",
    "label_encoder = preprocessing.LabelEncoder()\n",
    "\n",
    "# 创建标记\n",
    "input_classes = ['audi', 'ford', 'audi', 'toyota', 'ford', 'bmw']\n",
    "# 训练模型，实例化label_encoder，或者说，对input_classes进行建模\n",
    "label_encoder.fit(input_classes)\n",
    "# 输出建模结果\n",
    "for i,item in enumerate(label_encoder.classes_):\n",
    "    print(item,'--->',i)\n",
    "    \n",
    "# 下面使用模型进行预测\n",
    "labels = ['toyota', 'ford', 'audi']\n",
    "encoded_labels = label_encoder.transform(labels)\n",
    "\n",
    "/# 将数字反转回字符\n",
    "encoded_labels = [2, 1, 0, 3, 1]\n",
    "decoded_labels = label_encoder.inverse_transform(encoded_labels)"
   ]
  }
 ],
 "metadata": {
  "kernelspec": {
   "display_name": "Python 3",
   "language": "python",
   "name": "python3"
  },
  "language_info": {
   "codemirror_mode": {
    "name": "ipython",
    "version": 3
   },
   "file_extension": ".py",
   "mimetype": "text/x-python",
   "name": "python",
   "nbconvert_exporter": "python",
   "pygments_lexer": "ipython3",
   "version": "3.6.2"
  }
 },
 "nbformat": 4,
 "nbformat_minor": 4
}
