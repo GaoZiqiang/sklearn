{
 "cells": [
  {
   "cell_type": "code",
   "execution_count": 11,
   "metadata": {},
   "outputs": [],
   "source": [
    "import numpy as np\n",
    "from sklearn import preprocessing"
   ]
  },
  {
   "cell_type": "code",
   "execution_count": 21,
   "metadata": {},
   "outputs": [
    {
     "data": {
      "text/plain": [
       "(3, 4)"
      ]
     },
     "execution_count": 21,
     "metadata": {},
     "output_type": "execute_result"
    }
   ],
   "source": [
    "data = np.array([[ 3, -1.5,  2, -5.4],\n",
    "                 [ 0,  4,  -0.3, 2.1],\n",
    "                 [ 1,  3.3, -1.9, -4.3]])\n",
    "data.shape"
   ]
  },
  {
   "cell_type": "code",
   "execution_count": 27,
   "metadata": {},
   "outputs": [
    {
     "data": {
      "text/plain": [
       "array([[ 1.05366545, -0.31079341,  0.75045237, -1.49332442],\n",
       "       [-0.8340361 ,  1.46675314, -1.00659529,  0.37387825],\n",
       "       [ 0.51284962,  1.31254733, -0.49546489, -1.32993207]])"
      ]
     },
     "execution_count": 27,
     "metadata": {},
     "output_type": "execute_result"
    }
   ],
   "source": [
    "# 1.均值移除：通常我们会把每个特征的平均值移除,以保证特征均值为0(即标准化处理)。这样做可以消\n",
    "# 除特征彼此间的偏差(bias)\n",
    "\n",
    "# 使用preprocessing.scale()对数据进行标准化处理：把每个特征的平均值移除,以保证特征均值为0\n",
    "data_standardized = preprocessing.scale(data,axis=1)"
   ]
  },
  {
   "cell_type": "code",
   "execution_count": 33,
   "metadata": {},
   "outputs": [
    {
     "data": {
      "text/plain": [
       "array([[ 1.        ,  0.        ,  1.        ,  0.        ],\n",
       "       [ 0.        ,  1.        ,  0.41025641,  1.        ],\n",
       "       [ 0.33333333,  0.87272727,  0.        ,  0.14666667]])"
      ]
     },
     "execution_count": 33,
     "metadata": {},
     "output_type": "execute_result"
    }
   ],
   "source": [
    "# 2. 范围缩放(Scaling)\n",
    "# 数据点中每个特征的数值范围可能变化很大,因此,有时将特征的数值范围缩放到合理的大小是非常重要的\n",
    "data_scaler = preprocessing.MinMaxScaler(feature_range=(0,1))# 生成数据scaler转换器\n",
    "data_scaled = data_scaler.fit_transform(data)# 将scaler作用于data\n",
    "data_scaled"
   ]
  },
  {
   "cell_type": "code",
   "execution_count": 37,
   "metadata": {},
   "outputs": [
    {
     "data": {
      "text/plain": [
       "array([[ 0.25210084, -0.12605042,  0.16806723, -0.45378151],\n",
       "       [ 0.        ,  0.625     , -0.046875  ,  0.328125  ],\n",
       "       [ 0.0952381 ,  0.31428571, -0.18095238, -0.40952381]])"
      ]
     },
     "execution_count": 37,
     "metadata": {},
     "output_type": "execute_result"
    }
   ],
   "source": [
    "# 3. 归一化(Normalization) 非常重要\n",
    "# 数据归一化用于需要对特征向量的值进行调整时,以保证每个特征向量的值都缩放到相同的数值范围。机器学习中最常用的归一化形式就是将特征向量调整为L1范数,使特征向量的数值之\n",
    "# 和为1，数值范围一般为[0,1]或者[-1,1]\n",
    "# 确保数据处于同一数量级,提高不同特征数据的可比性\n",
    "data_normalized = preprocessing.normalize(data,norm='l1')\n",
    "data_normalized"
   ]
  },
  {
   "cell_type": "code",
   "execution_count": 43,
   "metadata": {},
   "outputs": [
    {
     "data": {
      "text/plain": [
       "array([[ 1.,  0.,  1.,  0.],\n",
       "       [ 0.,  1.,  0.,  1.],\n",
       "       [ 1.,  1.,  0.,  0.]])"
      ]
     },
     "execution_count": 43,
     "metadata": {},
     "output_type": "execute_result"
    }
   ],
   "source": [
    "# 4.二值化(Binarization)\n",
    "# 二值化用于将数值特征向量转换为布尔类型向量\n",
    "data_binarized = preprocessing.binarize(data,threshold=0)# 解释一下threshold参数：Feature values below or equal to this are replaced by 0, above it by\n",
    "data_binarized"
   ]
  },
  {
   "cell_type": "code",
   "execution_count": 48,
   "metadata": {},
   "outputs": [
    {
     "data": {
      "text/plain": [
       "array([[ 0.,  0.,  1.,  0.,  1.,  0.,  0.,  0.,  1.,  1.,  0.]])"
      ]
     },
     "execution_count": 48,
     "metadata": {},
     "output_type": "execute_result"
    }
   ],
   "source": [
    "# 5.独热编码(one-hot编码)\n",
    "encoder = preprocessing.OneHotEncoder()\n",
    "encoder.fit([[0, 2, 1, 12], [1, 3, 5, 3], [2, 3, 2, 12], [1, 2, 4, 3]])\n",
    "encoded_vector = encoder.transform([[2, 3, 5, 3]]).toarray()\n",
    "encoded_vector"
   ]
  }
 ],
 "metadata": {
  "kernelspec": {
   "display_name": "Python 3",
   "language": "python",
   "name": "python3"
  },
  "language_info": {
   "codemirror_mode": {
    "name": "ipython",
    "version": 3
   },
   "file_extension": ".py",
   "mimetype": "text/x-python",
   "name": "python",
   "nbconvert_exporter": "python",
   "pygments_lexer": "ipython3",
   "version": "3.6.2"
  }
 },
 "nbformat": 4,
 "nbformat_minor": 4
}
