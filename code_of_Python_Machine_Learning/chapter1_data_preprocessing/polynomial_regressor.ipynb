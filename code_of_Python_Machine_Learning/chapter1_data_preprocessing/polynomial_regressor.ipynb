{
 "cells": [
  {
   "cell_type": "code",
   "execution_count": 1,
   "metadata": {},
   "outputs": [],
   "source": [
    "# 多项式回归器\n",
    "# 线性回归模型有一个主要的局限性,那就是它只能把输入数据拟合成直线\n",
    "# 而多项式回归模型通过拟合多项式方程来克服这类问题,从而提高模型的准确性\n",
    "\n",
    "# 曲线模型模型的曲率是由多项式的次数决定的\n",
    "# 随着模型曲率的增加,模型变得更准确\n",
    "# 但是,增加曲率的同时也增加了模型的复杂性,因此拟合速度会变慢\n",
    "# 当我们对模型的准确性的理想追求与计算能力限制的残酷现实发生冲突时,就需要综合考虑了"
   ]
  },
  {
   "cell_type": "code",
   "execution_count": 2,
   "metadata": {},
   "outputs": [],
   "source": [
    "from sklearn.preprocessing import PolynomialFeatures"
   ]
  },
  {
   "cell_type": "code",
   "execution_count": 3,
   "metadata": {},
   "outputs": [
    {
     "ename": "NameError",
     "evalue": "name 'X_train' is not defined",
     "output_type": "error",
     "traceback": [
      "\u001b[0;31m---------------------------------------------------------------------------\u001b[0m",
      "\u001b[0;31mNameError\u001b[0m                                 Traceback (most recent call last)",
      "\u001b[0;32m<ipython-input-3-d03427c21611>\u001b[0m in \u001b[0;36m<module>\u001b[0;34m\u001b[0m\n\u001b[1;32m      2\u001b[0m \u001b[0mpolynomial\u001b[0m \u001b[0;34m=\u001b[0m \u001b[0mPolynomialFeatures\u001b[0m\u001b[0;34m(\u001b[0m\u001b[0mdegree\u001b[0m\u001b[0;34m=\u001b[0m\u001b[0;36m3\u001b[0m\u001b[0;34m)\u001b[0m\u001b[0;34m\u001b[0m\u001b[0m\n\u001b[1;32m      3\u001b[0m \u001b[0;34m\u001b[0m\u001b[0m\n\u001b[0;32m----> 4\u001b[0;31m \u001b[0mX_train_transformed\u001b[0m \u001b[0;34m=\u001b[0m \u001b[0mpolynomial\u001b[0m\u001b[0;34m.\u001b[0m\u001b[0mfit_transform\u001b[0m\u001b[0;34m(\u001b[0m\u001b[0mX_train\u001b[0m\u001b[0;34m)\u001b[0m\u001b[0;34m\u001b[0m\u001b[0m\n\u001b[0m",
      "\u001b[0;31mNameError\u001b[0m: name 'X_train' is not defined"
     ]
    }
   ],
   "source": [
    "# 生成多项式，将曲线的多项式的次数的初始值设置为 3\n",
    "polynomial = PolynomialFeatures(degree=3)\n",
    "\n",
    "X_train_transformed = polynomial.fit_transform(X_train)# 用作训练数据"
   ]
  },
  {
   "cell_type": "code",
   "execution_count": null,
   "metadata": {},
   "outputs": [],
   "source": [
    "# 下面做一组测试\n",
    "datapoint = [0.39,2.78,7.11]\n",
    "datapoint = np.reshape(datapoint,(3,1))# 一定要对datapoint做reshape操作，让它和X_train保持一致\n",
    "poly_datapoint = polynomial.fit_transform(datapoint)# 对数据进行多项式处理\n",
    "\n",
    "# 实例化poly_linear_model\n",
    "poly_linear_model = linear_model.LinearRegression()\n",
    "# 训练模型\n",
    "poly_linear_model.fit(X_train_transformed,y_train)\n",
    "\n",
    "# 预测\n",
    "linear_regressor.predict(datapoint)# 普通线性回归器\n",
    "poly_linear_model.predict(poly_datapoint)# 多项式回归器"
   ]
  }
 ],
 "metadata": {
  "kernelspec": {
   "display_name": "Python 3",
   "language": "python",
   "name": "python3"
  },
  "language_info": {
   "codemirror_mode": {
    "name": "ipython",
    "version": 3
   },
   "file_extension": ".py",
   "mimetype": "text/x-python",
   "name": "python",
   "nbconvert_exporter": "python",
   "pygments_lexer": "ipython3",
   "version": "3.6.2"
  }
 },
 "nbformat": 4,
 "nbformat_minor": 4
}
